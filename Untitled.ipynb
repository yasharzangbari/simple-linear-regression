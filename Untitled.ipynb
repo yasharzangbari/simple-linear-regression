{
 "cells": [
  {
   "cell_type": "markdown",
   "metadata": {},
   "source": [
    "# first method  \n",
    "\n",
    "### In this way, we first add the libraries we use, then we need the house data to find the best line\n",
    "  "
   ]
  },
  {
   "cell_type": "code",
   "execution_count": 55,
   "metadata": {},
   "outputs": [],
   "source": [
    "import pandas"
   ]
  },
  {
   "cell_type": "code",
   "execution_count": 56,
   "metadata": {},
   "outputs": [],
   "source": [
    "import numpy as np"
   ]
  },
  {
   "cell_type": "code",
   "execution_count": null,
   "metadata": {},
   "outputs": [],
   "source": []
  },
  {
   "cell_type": "markdown",
   "metadata": {},
   "source": [
    "### We import house data using the Panda Library\n"
   ]
  },
  {
   "cell_type": "code",
   "execution_count": 58,
   "metadata": {},
   "outputs": [],
   "source": [
    "data = pandas.read_csv(r\"C:\\users\\yashar-zb\\desktop\\kc_house_data.csv\")"
   ]
  },
  {
   "cell_type": "markdown",
   "metadata": {},
   "source": [
    "#### In this first method, simple linner regression, we calculate a house data using house metrics and two values of w0 and w1 that are coefficients of the regression function of the house price.\n"
   ]
  },
  {
   "cell_type": "code",
   "execution_count": 59,
   "metadata": {},
   "outputs": [],
   "source": [
    " def model(sqft_living , w0 , w1):\n",
    "    method = w0 + w1 * sqft_living\n",
    "    return method"
   ]
  },
  {
   "cell_type": "markdown",
   "metadata": {},
   "source": [
    "#### The RSS function calculates and finds the best or best possible line. In this method, we get all the states and then we find the minimum value in the next step and The lower the RSS content, the better.\n"
   ]
  },
  {
   "cell_type": "code",
   "execution_count": 60,
   "metadata": {},
   "outputs": [],
   "source": [
    "def RSS(Y , Yhat):\n",
    "    a = pow(Y-Yhat,2)\n",
    "    rss = np.sum(a)\n",
    "    return np.log(rss)\n"
   ]
  },
  {
   "cell_type": "code",
   "execution_count": 61,
   "metadata": {},
   "outputs": [],
   "source": [
    "result = []"
   ]
  },
  {
   "cell_type": "markdown",
   "metadata": {},
   "source": [
    "#### In this part of the code we obtain two values of w0, w1 randomly in the range of 1 to 100, by replacing two Yhat values that are the house price and the total price of the data house and the output value per output. We will save the result presentation\n"
   ]
  },
  {
   "cell_type": "code",
   "execution_count": 64,
   "metadata": {},
   "outputs": [],
   "source": [
    "for w0 in range(1 , 100):\n",
    "    for w1 in range(1 , 100):\n",
    "        Yhat = model(data['sqft_living'] , w0 , w1)\n",
    "        rss = RSS(data['price'] , Yhat)\n",
    "        result.append(rss)"
   ]
  },
  {
   "cell_type": "markdown",
   "metadata": {},
   "source": [
    "#### At least we get the result value\n"
   ]
  },
  {
   "cell_type": "code",
   "execution_count": 65,
   "metadata": {},
   "outputs": [
    {
     "data": {
      "text/plain": [
       "34.933521127203775"
      ]
     },
     "execution_count": 65,
     "metadata": {},
     "output_type": "execute_result"
    }
   ],
   "source": [
    "min = np.min(result)\n",
    "min"
   ]
  },
  {
   "cell_type": "markdown",
   "metadata": {},
   "source": [
    "# The second method of derivation "
   ]
  },
  {
   "cell_type": "markdown",
   "metadata": {},
   "source": [
    "#### In the second method, which is the best, most important and easiest way to find the best possible line, we can derive the function and set the derivative to zero to obtain the variable value."
   ]
  },
  {
   "cell_type": "markdown",
   "metadata": {},
   "source": [
    "#### To make things easier, we can use the sympy libraries used to perform math operations."
   ]
  },
  {
   "cell_type": "code",
   "execution_count": 91,
   "metadata": {},
   "outputs": [],
   "source": [
    "from sympy import Symbol, Derivative,Eq\n",
    "from sympy.solvers import solve\n"
   ]
  },
  {
   "cell_type": "markdown",
   "metadata": {},
   "source": [
    "#### We define two famous mathematical symbols x, y"
   ]
  },
  {
   "cell_type": "code",
   "execution_count": 92,
   "metadata": {},
   "outputs": [],
   "source": [
    "x= Symbol('x')\n",
    "y= Symbol('y')"
   ]
  },
  {
   "cell_type": "markdown",
   "metadata": {},
   "source": [
    "#### The feed we want is the RSS function.\n",
    "#### Define the RSS function that is the sum of the squares\n"
   ]
  },
  {
   "cell_type": "code",
   "execution_count": 93,
   "metadata": {},
   "outputs": [],
   "source": [
    "function= pow(x - y,2)"
   ]
  },
  {
   "cell_type": "markdown",
   "metadata": {},
   "source": [
    "#### At this point we write a method that performs the derivation of the desired function.\n",
    "#### But since our function has two unknown values we have to derive once for x and once for y.\n",
    "#### Then, after we get the derivatives, we have to give X once and get Y. And once we have the value of Y, we get X."
   ]
  },
  {
   "cell_type": "code",
   "execution_count": 94,
   "metadata": {},
   "outputs": [],
   "source": [
    "def RSSDerivative(input1,input2):\n",
    "    function= pow(x - y,2)\n",
    "    deriv= Derivative(function, x)\n",
    "    derivy= Derivative(function, y)\n",
    "    deriv.doit()\n",
    "    derivy.doit()\n",
    "    dd = deriv.doit().subs({x:input1})\n",
    "    dd2 = derivy.doit().subs({y:input2})\n",
    "    sol1 = solve([dd2,dd], dict=True)\n",
    "    xs =sol1[0]\n",
    "    for key, value in xs.items():\n",
    "        \n",
    "        return value\n",
    "#     return print(sol)"
   ]
  },
  {
   "cell_type": "markdown",
   "metadata": {},
   "source": [
    "#### In this section, just like the first step, we give two values of rss, yhat to the RSSDerivative function in the range of 100 to 1000 and give us the calculated value of X and Y"
   ]
  },
  {
   "cell_type": "code",
   "execution_count": 103,
   "metadata": {},
   "outputs": [],
   "source": [
    "result2 = []\n",
    "for w0 in range(1 , 100):\n",
    "    for w1 in range(1 , 100):\n",
    "        Yhat = model(data['sqft_living'] , w0 , w1)\n",
    "        rss = RSS(data['price'] , Yhat)\n",
    "        c = RSSDerivative(Yhat,rss)\n",
    "        \n",
    "        result2.append(c)\n",
    "#         print(np.min(result2))"
   ]
  },
  {
   "cell_type": "code",
   "execution_count": 104,
   "metadata": {},
   "outputs": [
    {
     "data": {
      "text/latex": [
       "$\\displaystyle 36.040817923699$"
      ],
      "text/plain": [
       "36.0408179236990"
      ]
     },
     "execution_count": 104,
     "metadata": {},
     "output_type": "execute_result"
    }
   ],
   "source": [
    "min = np.min(result2)\n",
    "min"
   ]
  },
  {
   "cell_type": "code",
   "execution_count": null,
   "metadata": {},
   "outputs": [],
   "source": []
  }
 ],
 "metadata": {
  "kernelspec": {
   "display_name": "Python 3",
   "language": "python",
   "name": "python3"
  },
  "language_info": {
   "codemirror_mode": {
    "name": "ipython",
    "version": 3
   },
   "file_extension": ".py",
   "mimetype": "text/x-python",
   "name": "python",
   "nbconvert_exporter": "python",
   "pygments_lexer": "ipython3",
   "version": "3.7.3"
  }
 },
 "nbformat": 4,
 "nbformat_minor": 2
}
